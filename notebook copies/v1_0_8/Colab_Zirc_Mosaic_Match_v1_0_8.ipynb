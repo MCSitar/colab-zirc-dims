{
  "nbformat": 4,
  "nbformat_minor": 0,
  "metadata": {
    "colab": {
      "name": "Colab_Zirc_Mosaic_Match_v1-0-8.ipynb",
      "provenance": [],
      "collapsed_sections": [
        "yL0b7kBpW1Le",
        "LLCsoDQBBxpA"
      ]
    },
    "kernelspec": {
      "name": "python3",
      "display_name": "Python 3"
    },
    "language_info": {
      "name": "python"
    }
  },
  "cells": [
    {
      "cell_type": "markdown",
      "metadata": {
        "id": "Wj54_S36gWFO"
      },
      "source": [
        "# Colab Zirc Dims: Data Matching and Preparation\n",
        "\n",
        "This Colab Notebook is ready-to-run and allows users to match mosaic images of zircon grains from LA-ICP-MS analyses to corresponding .scancsv scanlist files using code from the [colab-zirc-dims GitHub repository](https://github.com/MCSitar/colab_zirc_dims). It is intended to complement [this notebook](https://colab.research.google.com/drive/1ujPeumUGHi5_ZtwliOVA2W2gjPljW0XV?usp=sharing), which automates zircon grain size measurment using deep learning. This notebook should be opened in playground mode or copied into users' Google Drives before running."
      ]
    },
    {
      "cell_type": "markdown",
      "source": [
        "## How to run this Notebook (for new Google Colab users):"
      ],
      "metadata": {
        "id": "yL0b7kBpW1Le"
      }
    },
    {
      "cell_type": "markdown",
      "source": [
        "Google Colab notebooks are Jupyter notebooks that execute in cloud-hosted Python 3 environments on virtual machines equiped with high-end CPUs and GPUs. Users are thus able to run compute-intensive Python code, view outputs, etc. in a browser window from any local computer regardless of their hardware and without any setup or installation.\n"
      ],
      "metadata": {
        "id": "AKJMCMF4XKtu"
      }
    },
    {
      "cell_type": "markdown",
      "source": [
        "#### Running cells:"
      ],
      "metadata": {
        "id": "PO9ZCoHDeMKb"
      }
    },
    {
      "cell_type": "markdown",
      "source": [
        "Notebooks are made up of cells containing either text or code. Cells with code in this Notebook should be run in top-bottom order unless otherwise specified. To run cells:\n",
        "\n",
        "1.   Hover the mouse over the cell to be run, then click the button with a 'play' symbol on it. See below for an example:"
      ],
      "metadata": {
        "id": "dGkFQ6mNeMKc"
      }
    },
    {
      "cell_type": "code",
      "source": [
        "#Try running this example cell\n",
        "print('Cell run!')"
      ],
      "metadata": {
        "id": "y0LoYb_Mf4CI"
      },
      "execution_count": null,
      "outputs": []
    },
    {
      "cell_type": "markdown",
      "source": [
        "#### Clearing outputs:"
      ],
      "metadata": {
        "id": "CtUo23yWgInW"
      }
    },
    {
      "cell_type": "markdown",
      "source": [
        "To make this Notebook look neater after running it and/or to cut down on file size before saving (e.g., if there are many inspection images open), users can clear all cell outputs. To do this:\n",
        "\n",
        "1.   Navigate to 'Edit' --> 'Clear all outputs' in the toolbar at the top of the screen, then click."
      ],
      "metadata": {
        "id": "bQ0mP2FJgpQj"
      }
    },
    {
      "cell_type": "markdown",
      "source": [
        "## Project Folder Organization:"
      ],
      "metadata": {
        "id": "cRxw_KrqmYmq"
      }
    },
    {
      "cell_type": "markdown",
      "source": [
        "\n",
        "Before running this notebook, users must have a project folder organized with the structure below.  A template project folder that can be downloaded, edited, and re-uploaded is available [here](https://drive.google.com/drive/folders/1cFOoxp2ELt_W6bqY24EMpxQFmI00baDl?usp=sharing). Note that the template folder previously included a trained model, but this is no longer neccesary (as of 03/21/2022) because models are now automatically downloaded before automated analysis. This notebook will procedurally generate a mosaic_info.csv file (neccessary for automated analysis) and add it to the folder.\n",
        "\n",
        "```\n",
        "root directory\n",
        "|\n",
        "└───mosaics**\n",
        "│   │   mosaic_XXX.bmp\n",
        "│   │   mosaic_XXX.Align\n",
        "│   │   mosaic_YYY.bmp\n",
        "│   │   mosaic_YYY.Align\n",
        "|   |   ...\n",
        "│   \n",
        "└───scanlists\n",
        "    │   scanlist_XXX.scancsv\n",
        "    │   scanlist_YYY.scancsv\n",
        "    |   ...\n",
        "\n",
        "\n",
        "**This directory must contain both .bmp mosaic images and .Align files for \n",
        "each zircon sample to be analyzed. .Align files must have the same \n",
        "filenames (minus file extensions) as their respective .bmp mosaic files.\n",
        "All .bmp/.Align files do not have to correspond to a scanlist (and vice-versa);\n",
        ".bmp/.Align files that do not correspond to any .scancsv file will be\n",
        "automatically ignored when running this notebook.\n",
        "Low-contrast mosaic images will automatically have their contrast \n",
        "increased via (Scikit Image) histogram normalization during processing.\n",
        "\n",
        "\n",
        "```"
      ],
      "metadata": {
        "id": "1BzuY-R7mdAq"
      }
    },
    {
      "cell_type": "markdown",
      "source": [
        "\n",
        "### mosaic_info.csv Formatting/Explanation:"
      ],
      "metadata": {
        "id": "2nT9jYwXmi50"
      }
    },
    {
      "cell_type": "markdown",
      "source": [
        "\n",
        "Your mosaic_info .csv file (i.e., the one created by this Notebook) will have headers (capitalization must match):\n",
        "\n",
        "| **Sample** | **Scanlist** | **Mosaic** | **Max_zircon_size** | **X_offset** | **Y_offset** |\n",
        "\n",
        "Data under each of the headers will be as follows:\n",
        "\n",
        "\n",
        "*   **Sample**: Name of each sample (e.g., 'V26'). Sample names must be unique!\n",
        "*   **Scanlist**: Full filename of the scanlist corresponding to each sample (e.g., 'V26 complete.scancsv').\n",
        "*   **Mosaic**: Full filename of the mosaic .bmp image file corresponding to each sample (e.g., 'Mosaic160210 1844-32-916.bmp').\n",
        "*   **Max_zircon_size**: Maximum expected zircon size (in µm) in each sample (e.g., '500'). During processing, subimages are clipped from larger mosaic images to cut down on processing time. This will be the size of the clipped subimages that are processed by the script. Models will often fail to distinguish grains when they cannot see all grain boundaries (e.g., if the sub-image is smaller than the grain), so this parameter should be adjusted such that non-standard grains are fully visible within example subimages.\n",
        "*   **X_offset**: X correction (in µm) for any misalignment of each mosaic image relative to recorded ablation points (e.g., '-125' will shift ablation points 125 µm to the left). Keep at 0 to keep recorded points as-is.\n",
        "*   **Y_offset** Y correction (in µm) for any misalignment of each mosaic image relative to recorded ablation points (e.g., '-125' will shift ablation points 125 µm upwards). Keep at 0 to keep recorded points as-is.\n",
        "\n",
        "---"
      ],
      "metadata": {
        "id": "mEUwoLDdmpUU"
      }
    },
    {
      "cell_type": "markdown",
      "metadata": {
        "id": "nPf1O9v5mJ-I"
      },
      "source": [
        "## Imports and Google Drive mounting:\n",
        "\n",
        "Run the cell below to import neccessary packages and mount your Google Drive to this Notebook. Mounting your Google Drive will require following the given instructions (click link, sign in, copy code, paste code into box, press enter)."
      ]
    },
    {
      "cell_type": "code",
      "metadata": {
        "id": "PzMvr8CrBjg4"
      },
      "source": [
        "#imports neccessary packages\n",
        "import sys\n",
        "import os\n",
        "import matplotlib.pyplot as plt\n",
        "import pandas as pd\n",
        "\n",
        "#install colab_zirc_dims, import modules\n",
        "!pip install colab_zirc_dims==1.0.8\n",
        "\n",
        "from colab_zirc_dims import czd_utils, mos_proc, mos_match\n",
        "\n",
        "# mounts user Google Drive\n",
        "from google.colab import drive\n",
        "drive.mount('/content/drive')"
      ],
      "execution_count": null,
      "outputs": []
    },
    {
      "cell_type": "markdown",
      "metadata": {
        "id": "u4nBZdwTrGZG"
      },
      "source": [
        "## Link project folder:\n",
        "\n",
        "Add the path to your project folder to the cell below and then run the cell to link the Notebook to it."
      ]
    },
    {
      "cell_type": "code",
      "metadata": {
        "id": "AVVmo_Z0Arzn",
        "cellView": "form"
      },
      "source": [
        "#@title Input full path to project folder here, then run this cell\n",
        "ROOT_DIR = \"/content/drive/My Drive/YOUR PROJECT DIRECTORY HERE\" #@param {type:\"string\"}\n"
      ],
      "execution_count": null,
      "outputs": []
    },
    {
      "cell_type": "markdown",
      "metadata": {
        "id": "7bXhUEaWRUfo"
      },
      "source": [
        "## Match mosaic files to .scancsv files:\n",
        "\n",
        "Run the cell below to find matches by comparing the bounds of .bmp images (given in their respective .Align files) with those of .scancsv files.\n",
        "\n",
        "Re-run this cell if you have modified the project folder (e.g., added files) and want these changes to be reflected in your table. Note that this will clear any changes that you have made to the table within this Notebook - export and download your .csv to save changes.\n",
        "\n",
        "If you know that there is significant mismatch (i.e., > 1 shots outside of mosaic areas) in your dataset, you can increase the integer in line 9 of the cell below to increase tolerance for out-of-bounds shots when matching mosaics to .scancsv scanlist files."
      ]
    },
    {
      "cell_type": "code",
      "metadata": {
        "id": "K1pNYocfL_qz"
      },
      "source": [
        "scanlist_dir = os.path.join(ROOT_DIR, 'scanlists')\n",
        "mosaic_dir = os.path.join(ROOT_DIR, 'mosaics')\n",
        "\n",
        "#Change the integer parameter in the line below to increase the number \\\n",
        "# of 'out-of-bounds' shots allowed before a mosaic is classified as \\\n",
        "# not being a match for a .scancsv file. Increase the parameter to an \\\n",
        "# arbitrarily large number (i.e., > number of shots in the .scancsv) \\\n",
        "# to view all mosaics in project folder as potential matches.\n",
        "matches_dict = mos_match.check_scan_mos_matches(scanlist_dir, mosaic_dir, 1)\n",
        "\n",
        "mutable_export_dict, act_matches_dict = mos_match.matches_to_mos_info(matches_dict)"
      ],
      "execution_count": null,
      "outputs": []
    },
    {
      "cell_type": "markdown",
      "metadata": {
        "id": "haFk94_PSmK-"
      },
      "source": [
        "## View matches and edit table:\n",
        "\n",
        "Run the cells below to view and edit the data that will be exported in your mosaic_info.csv file."
      ]
    },
    {
      "cell_type": "markdown",
      "source": [
        "#### 1. Run (hidden by default) cell below to define functions, variables neccesary for table viewing/editing:"
      ],
      "metadata": {
        "id": "LLCsoDQBBxpA"
      }
    },
    {
      "cell_type": "code",
      "source": [
        "from google.colab import widgets\n",
        "import ipywidgets\n",
        "from ipywidgets import Layout\n",
        "from IPython.display import display, clear_output\n",
        "def display_edit_table():\n",
        "    headers = list(mutable_export_dict.keys())\n",
        "    num_matches = len(mutable_export_dict['Mosaic'])\n",
        "\n",
        "    #shows a random sample of subimages for a given row in mutable_export_dict\n",
        "    # param \"output_tab\" is a list with [*tab_widget_name*, *index_of_tab_for_plotting*]\n",
        "    def random_sample_row(sample_row, output_tab = None):\n",
        "        sample_params = []\n",
        "        for each_header, each_data in mutable_export_dict.items():\n",
        "          if each_header == 'Mosaic':\n",
        "            sample_params.append(os.path.join(mosaic_dir, each_data[sample_row]))\n",
        "            temp_align_path = sample_params[-1].strip('bmp') + 'Align'\n",
        "            sample_params.append(temp_align_path)\n",
        "          elif each_header == 'Scanlist':\n",
        "            sample_params.append(os.path.join(scanlist_dir, each_data[sample_row]))\n",
        "          else:\n",
        "            sample_params.append(each_data[sample_row])\n",
        "        if output_tab:\n",
        "          output_tab[0].clear_tab(output_tab[1])\n",
        "          with output_tab[0].output_to(output_tab[1]):\n",
        "              mos_proc.random_subimg_sample(9, *sample_params[:5], sample_params[5:])\n",
        "        else:\n",
        "            mos_proc.random_subimg_sample(9, *sample_params[:5], sample_params[5:])\n",
        "\n",
        "\n",
        "    #upon change in input box/dropdown vals, changes vals in mutable_export_dict\n",
        "    def change_watcher(change, val_key_idx):\n",
        "        if change['name'] == 'value' and (change['new'] != change['old']):\n",
        "            column_name = headers[val_key_idx[0]]\n",
        "            mutable_export_dict[column_name][val_key_idx[1]] = change['new']\n",
        "\n",
        "    #displays an input widget and sets up listener (linked to mutable_export_dict)\n",
        "    def display_and_watch(ipy_widget, val_key_idx):\n",
        "        each_widget = ipy_widget\n",
        "        each_widget.observe(lambda change: change_watcher(change, val_key_idx))\n",
        "        display(each_widget)\n",
        "\n",
        "    #displays a button widget and links it to a function with specific param(s)\n",
        "    def display_linked_button(button_widget, val_for_fxn):\n",
        "        each_widget = button_widget\n",
        "        each_widget.on_click(lambda i: random_sample_row(val_for_fxn, [t, 1]))\n",
        "        display(each_widget)\n",
        "\n",
        "    t = widgets.TabBar(['Table', 'Image View'])\n",
        "\n",
        "    with t.output_to(0):\n",
        "\n",
        "      grid = widgets.Grid(num_matches + 1, 7, header_row=True, header_column=True,\n",
        "                          style='width: auto')\n",
        "\n",
        "      starting_vals = list(mutable_export_dict.values())\n",
        "      for (row, col) in grid:\n",
        "        #row in displayed table does not match row in export dict, so needs adjustment\n",
        "        adj_row = row - 1\n",
        "\n",
        "        #adds/links data, headers from mutable_export_dict procedurally\n",
        "        if col < 6:\n",
        "          each_starting_val = starting_vals[col][adj_row]\n",
        "          if row == 0:\n",
        "            print(headers[col])\n",
        "          elif col == 0:\n",
        "              display_and_watch(ipywidgets.Text(value=each_starting_val,\n",
        "                                                layout=Layout(width='100%')),\n",
        "                                 [col, adj_row])\n",
        "          elif col == 1:\n",
        "            print(list(act_matches_dict.keys())[adj_row])\n",
        "          elif col == 2:\n",
        "            if len(list(act_matches_dict.values())[adj_row]) == 1:\n",
        "              print(each_starting_val)\n",
        "            else:\n",
        "              options_list = list(act_matches_dict.values())[adj_row]\n",
        "              display_and_watch(ipywidgets.Dropdown(value = each_starting_val,\n",
        "                                                    options = options_list,\n",
        "                                                    layout=Layout(width='100%')),\n",
        "                                [col, adj_row]\n",
        "                                )\n",
        "          else:\n",
        "            display_and_watch(ipywidgets.IntText(value = each_starting_val,\n",
        "                                                 layout=Layout(width='100%')), [col, adj_row])\n",
        "\n",
        "        #adds buttons allowing samples of data (with current inputs) to be displayed\n",
        "        elif row == 0:\n",
        "          print('Display/refresh\\nsample images')\n",
        "        else:\n",
        "          display_linked_button(ipywidgets.Button(tooltip='Click to display/refresh a random sample of shot images', \n",
        "                                                  style= {'button_color': 'white',\n",
        "                                                          'text_color': 'black'},\n",
        "                                                  description = 'Display'), adj_row)"
      ],
      "metadata": {
        "id": "-crX5qsGCD08"
      },
      "execution_count": null,
      "outputs": []
    },
    {
      "cell_type": "markdown",
      "source": [
        "#### 2. Run cell below to actually view/edit table:\n",
        "If multiple possible matching mosaic files are available for a given .scancsv file, you can browse through them and select a best match via dropdown menu. Click the button at right to view or reload a random sample of shot images with current (entered) parameters/mosaic file. **Images will appear in the 'Image View' tab (click on this) at the top of the table**. All cells should be filled out (with placeholder values if necessary) before export."
      ],
      "metadata": {
        "id": "1AMU1-LcGYf0"
      }
    },
    {
      "cell_type": "code",
      "source": [
        "display_edit_table()"
      ],
      "metadata": {
        "id": "fa8GxCI1CooW"
      },
      "execution_count": null,
      "outputs": []
    },
    {
      "cell_type": "markdown",
      "metadata": {
        "id": "EKyf5nHutX74"
      },
      "source": [
        "## Convert and view mosaic_info data table:\n",
        "\n",
        "Run the cell below to convert your entered data to a pandas data table and run it. This should be re-run before export to record any changes to the table in the above cell."
      ]
    },
    {
      "cell_type": "code",
      "metadata": {
        "id": "4iEqQ9Ie5P3q"
      },
      "source": [
        "from google.colab import data_table\n",
        "data_table.enable_dataframe_formatter()\n",
        "\n",
        "pd_export_dict = pd.DataFrame.from_dict(mutable_export_dict)\n",
        "\n",
        "pd_export_dict"
      ],
      "execution_count": null,
      "outputs": []
    },
    {
      "cell_type": "markdown",
      "metadata": {
        "id": "KNDJBXIyvr6J"
      },
      "source": [
        "## Export mosaic_info.csv to project folder:\n",
        "\n",
        "Run the cell below to export the data table that you have created to your project folder as 'mosaic_info.csv'. Note that this will overwrite any current 'mosaic_info.csv' file in the folder."
      ]
    },
    {
      "cell_type": "code",
      "metadata": {
        "id": "JEv-qH2jiVK2"
      },
      "source": [
        "czd_utils.save_csv(os.path.join(ROOT_DIR, 'mosaic_info.csv'), pd_export_dict)"
      ],
      "execution_count": null,
      "outputs": []
    },
    {
      "cell_type": "markdown",
      "source": [
        "## Measure zircons with deep learning automation (optional):\n",
        "If you want to continue to automated zircon size analysis, follow [this link](https://colab.research.google.com/drive/1ujPeumUGHi5_ZtwliOVA2W2gjPljW0XV?usp=sharing)."
      ],
      "metadata": {
        "id": "sYMLxBocOuOY"
      }
    }
  ]
}