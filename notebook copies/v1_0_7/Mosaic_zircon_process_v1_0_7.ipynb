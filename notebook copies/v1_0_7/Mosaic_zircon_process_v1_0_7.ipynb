{
 "cells": [
  {
   "cell_type": "markdown",
   "metadata": {
    "id": "B0dY5QyIbASi"
   },
   "source": [
    "# ALC Automatic and Semi-Automatic Zircon Measurement Notebook\n",
    "The code in this Colab Notebook will automatically detect, segment, and measure zircon crystals in reflected light alignment mosaics from the [Arizona LaserChron center](https://sites.google.com/laserchron.org/arizonalaserchroncenter/home) saved during LA-ICP-MS dating. Zircon segmentation is accomplished via trained Mask RCNN model, using the Detectron2 deep learning library.\n",
    "\n",
    "This Notebook is ready-to-run and implements code available in the [colab-zirc-dims GitHub repository](https://github.com/MCSitar/colab_zirc_dims). Before using this Notebook, it should be copied into your own Google Drive (location w/in is irrelevant) or opened in 'playground mode'. Make sure that you are connected to a GPU runtime when running this Notebook."
   ]
  },
  {
   "cell_type": "markdown",
   "metadata": {
    "id": "yL0b7kBpW1Le"
   },
   "source": [
    "## How to run this Notebook (for new Google Colab users):"
   ]
  },
  {
   "cell_type": "markdown",
   "metadata": {
    "id": "AKJMCMF4XKtu"
   },
   "source": [
    "Google Colab notebooks are Jupyter notebooks that execute in cloud-hosted Python 3 environments on virtual machines equiped with high-end CPUs and GPUs. Users are thus able to run compute-intensive Python code, view outputs, etc. in a browser window from any local computer regardless of their hardware and without any setup or installation.\n",
    "\n"
   ]
  },
  {
   "cell_type": "markdown",
   "metadata": {
    "id": "MdNJ-uIYbSi-"
   },
   "source": [
    "#### Checking GPU runtime:"
   ]
  },
  {
   "cell_type": "markdown",
   "metadata": {
    "id": "I7jCAFt5baTc"
   },
   "source": [
    "Code in this Notebook uses RCNN models to segment zircon crystals from images, so virtual runtimes executing it require access to a GPU. This should be enabled by default, but if users want to verify that their virutal machine has a GPU:\n",
    "\n",
    "1.   Navigate to 'Runtime' --> 'Change runtime type' in the toolbar at the top of the screen.\n",
    "2.   In the 'Notebook Settings' window that pops up, check that 'GPU' is selected in the 'Hardware accelerator' dropdown menu. If not, select it.\n",
    "3.   Click save, then run the Notebook.\n",
    "\n",
    "\n",
    "\n"
   ]
  },
  {
   "cell_type": "markdown",
   "metadata": {
    "id": "PO9ZCoHDeMKb"
   },
   "source": [
    "#### Running cells:"
   ]
  },
  {
   "cell_type": "markdown",
   "metadata": {
    "id": "dGkFQ6mNeMKc"
   },
   "source": [
    "Notebooks are made up of cells containing either text or code. Cells with code in this Notebook should be run in top-bottom order unless otherwise specified. To run cells:\n",
    "\n",
    "1.   Hover the mouse over the cell to be run, then click the button with a 'play' symbol on it. See below for an example:"
   ]
  },
  {
   "cell_type": "code",
   "execution_count": null,
   "metadata": {
    "id": "y0LoYb_Mf4CI"
   },
   "outputs": [],
   "source": [
    "#Try running this example cell\n",
    "print('Cell run!')"
   ]
  },
  {
   "cell_type": "markdown",
   "metadata": {
    "id": "CtUo23yWgInW"
   },
   "source": [
    "#### Clearing outputs:"
   ]
  },
  {
   "cell_type": "markdown",
   "metadata": {
    "id": "bQ0mP2FJgpQj"
   },
   "source": [
    "To make this Notebook look neater after running it and/or to cut down on file size before saving (e.g., if there are many inspection images open), users can clear all cell outputs. To do this:\n",
    "\n",
    "1.   Navigate to 'Edit' --> 'Clear all outputs' in the toolbar at the top of the screen, then click."
   ]
  },
  {
   "cell_type": "markdown",
   "metadata": {
    "id": "z_Qzu57xhvrB"
   },
   "source": [
    "#### Factory reset runtime:"
   ]
  },
  {
   "cell_type": "markdown",
   "metadata": {
    "id": "9nCcoQ_xh2xO"
   },
   "source": [
    "Some earlier versions of this project had memory leak issues that caused RAM crashes during fully-automated grain processing. Said issues seem to be fixed, but if they reappear:\n",
    "\n",
    "1.   Clear the current virtual machine runtime and connect to a new one (with fresh RAM) by navigating to 'Runtime' --> 'Factory reset runtime' and clicking.\n",
    "2.   Re-run all neccesary cells in Notebook.\n",
    "3.   (Please) open an issue on the project Github page or use the contact details found there to report the bug directly to the project manager.\n"
   ]
  },
  {
   "cell_type": "markdown",
   "metadata": {
    "id": "jBkTjTKx17qi"
   },
   "source": [
    "## Possible Workflows:"
   ]
  },
  {
   "cell_type": "markdown",
   "metadata": {
    "id": "D-woZ0kv2FqF"
   },
   "source": [
    "\n",
    "#### Only using automated processing (not recommended)\n",
    "1. Run cells in 'Processing Option A' after running all required cells above. This is the only step.\n",
    "\n",
    "#### Sample-by-sample semi-automated processing \n",
    "1.   Run the GUI in 'Processing Option B' after running all required cells above.\n",
    "2.   Produce and correct segmentations and measurements on a sample-by-sample basis\n",
    "\n",
    "#### Automated editing followed by manual segmentation checking/editing\n",
    "1. Run cells in 'Processing Option A' with polygon saving enabled after running all required cells above.\n",
    "2.   Load polygons and use the GUI ('Processing Option B') to check and/or edit auto-generated polygons. Can be done in a single sesssion or iteratively in multiple sessions; load polygons from your last semi-automated processing run to pick up where you left off."
   ]
  },
  {
   "cell_type": "markdown",
   "metadata": {
    "id": "h6-ooPG62Umh"
   },
   "source": [
    "\n",
    "## Data Formatting and Organization:"
   ]
  },
  {
   "cell_type": "markdown",
   "metadata": {
    "id": "q3xUNZWF2b2M"
   },
   "source": [
    "To use this Notebook, a formatted project folder containing your data files and a [mosaic info .csv file](https://colab.research.google.com/drive/1aPMjSF2uGOP4Xy2dssjhk--TFQ7_hWuu?usp=sharing) must be uploaded to your Google Drive.\n",
    "\n",
    "Your project folder must be organized with the structure shown below. A template project folder that can be downloaded, edited, and re-uploaded is available [here](https://drive.google.com/drive/folders/1cFOoxp2ELt_W6bqY24EMpxQFmI00baDl?usp=sharing). Note that previous versions of this folder included trained model weights - these are now automatically downloaded while running this notebook and so are not a necessary component of the project folder.\n",
    "\n",
    "```\n",
    "root directory\n",
    "|   mosaic_info.csv\n",
    "|\n",
    "└───mosaics*\n",
    "│   │   mosaic_XXX.bmp\n",
    "│   │   mosaic_XXX.Align\n",
    "│   │   mosaic_YYY.bmp\n",
    "│   │   mosaic_YYY.Align\n",
    "|   |   ...\n",
    "│   \n",
    "└───scanlists\n",
    "|   │   scanlist_XXX.scancsv\n",
    "|   │   scanlist_YYY.scancsv\n",
    "|   |   ...\n",
    "|\n",
    "└───outputs**\n",
    "    |   ...\n",
    "\n",
    "*.Align files must have the same filenames (minus file extensions) as\n",
    "their respective .bmp mosaic files.\n",
    "Low-contrast mosaic images will automatically have their contrast \n",
    "increased via (Scikit Image) histogram normalization during processing.\n",
    "\n",
    "**Optional; if this folder does not exist it will be automatically created during processing\n",
    "```\n",
    "For basic use of this notebook, only the mosaic_info.csv file needs to be modified. A mosaic_info.csv file can be generated from your data using [this notebook](https://colab.research.google.com/drive/1aPMjSF2uGOP4Xy2dssjhk--TFQ7_hWuu?usp=sharing).\n"
   ]
  },
  {
   "cell_type": "markdown",
   "metadata": {
    "id": "98IjtM9t2oz5"
   },
   "source": [
    "### mosaic_info.csv Formatting"
   ]
  },
  {
   "cell_type": "markdown",
   "metadata": {
    "id": "i-M2XN8D2utt"
   },
   "source": [
    "Your mosaic_info csv file must have headers (capitalization must match):\n",
    "\n",
    "| **Sample** | **Scanlist** | **Mosaic** | **Max_zircon_size** | **X_offset** | **Y_offset** |\n",
    "\n",
    "Data that should be entered under each of the headers will be as follows:\n",
    "\n",
    "\n",
    "*   **Sample**: Name of each sample (e.g., 'V26').\n",
    "*   **Scanlist**: Full filename of the scanlist corresponding to each sample (e.g., 'V26 complete.scancsv').\n",
    "*   **Mosaic**: Full filename of the mosaic .bmp image file corresponding to each sample (e.g., 'Mosaic160210 1844-32-916.bmp').\n",
    "*   **Max_zircon_size**: Maximum expected zircon size (in µm) in each sample (e.g., '500'). During processing, subimages are clipped from larger mosaic images to cut down on processing time. This will be the size of the clipped subimages that are processed by the script.\n",
    "*   **X_offset**: X correction (in µm) for any misalignment of each mosaic image relative to recorded ablation points (e.g., '-125' will shift ablation points 125 µm to the left). Set to 0 to keep recorded points as-is.\n",
    "*   **Y_offset** Y correction (in µm) for any misalignment of each mosaic image relative to recorded ablation points (e.g., '-125' will shift ablation points 125 µm upwards). Set to 0 to keep recorded points as-is.\n",
    "\n",
    "---"
   ]
  },
  {
   "cell_type": "markdown",
   "metadata": {
    "id": "06yBm0pRreAd"
   },
   "source": [
    "## Setup and Installation:\n",
    "\n",
    "\n",
    "The 2 cells below (modified from the [Detectron2 Colab tutorial](https://colab.research.google.com/drive/16jcaJoc6bCFAQ96jDe2HwtXj7BMD_-m5)) will install Detectron2 and import various packages neccesary for further processing. The runtime will automatically restart upon Detectron2 installation in the first cell (may bring up crash warning)."
   ]
  },
  {
   "cell_type": "code",
   "execution_count": null,
   "metadata": {
    "id": "puL6ZbwlppA7"
   },
   "outputs": [],
   "source": [
    "!pip install pyyaml==5.1\n",
    "\n",
    "import torch\n",
    "TORCH_VERSION = \".\".join(torch.__version__.split(\".\")[:2])\n",
    "CUDA_VERSION = torch.__version__.split(\"+\")[-1]\n",
    "print(\"torch: \", TORCH_VERSION, \"; cuda: \", CUDA_VERSION)\n",
    "# Install detectron2 that matches the above pytorch version\n",
    "# See https://detectron2.readthedocs.io/tutorials/install.html for instructions\n",
    "!pip install detectron2 -f https://dl.fbaipublicfiles.com/detectron2/wheels/$CUDA_VERSION/torch$TORCH_VERSION/index.html\n",
    "exit(0)  # After installation, you need to \"restart runtime\" in Colab. This line can also restart runtime"
   ]
  },
  {
   "cell_type": "code",
   "execution_count": null,
   "metadata": {
    "id": "7s3s-2F8JmjI"
   },
   "outputs": [],
   "source": [
    "# import some neccesary libraries\n",
    "import os, cv2, sys\n",
    "import matplotlib.pyplot as plt\n",
    "from google.colab.patches import cv2_imshow\n",
    "import ipywidgets as widgets\n",
    "%matplotlib auto\n",
    "\n",
    "# import some common detectron2 utilities\n",
    "from detectron2 import model_zoo\n",
    "from detectron2.engine import DefaultPredictor\n",
    "from detectron2.config import get_cfg\n",
    "from detectron2.utils.visualizer import Visualizer\n",
    "from detectron2.data import catalog\n",
    "\n",
    "#install colab_zirc_dims\n",
    "!pip install colab_zirc_dims==1.0.7\n",
    "\n",
    "#imports cloned colab_zirc_dims modules\n",
    "from colab_zirc_dims import czd_utils\n",
    "from colab_zirc_dims import save_load\n",
    "from colab_zirc_dims import alc_notebook_fxns\n",
    "from colab_zirc_dims import zirc_dims_GUI"
   ]
  },
  {
   "cell_type": "markdown",
   "metadata": {
    "id": "VkqTw8-cjB3E"
   },
   "source": [
    "\n",
    "To mount your Google Drive, simply run the cell below and input your authentication code as requested."
   ]
  },
  {
   "cell_type": "code",
   "execution_count": null,
   "metadata": {
    "id": "EcNfpP3BsJVE"
   },
   "outputs": [],
   "source": [
    "from google.colab import drive\n",
    "drive.mount('/content/drive')"
   ]
  },
  {
   "cell_type": "markdown",
   "metadata": {
    "id": "EhjGHLedsOhT"
   },
   "source": [
    "Modify the form field and run the cell below to set your project directory (organized as above) as the root directory."
   ]
  },
  {
   "cell_type": "code",
   "execution_count": null,
   "metadata": {
    "id": "dYRKBqn9sNvZ"
   },
   "outputs": [],
   "source": [
    "#@title Input full path to project folder here, then run this cell\n",
    "ROOT_DIR = \"/content/drive/My Drive/YOUR PROJECT DIRECTORY HERE\" #@param {type:\"string\"}\n"
   ]
  },
  {
   "cell_type": "markdown",
   "metadata": {
    "id": "_6wy-6GJWXpY"
   },
   "source": [
    "## Data Loading:\n",
    "\n",
    "Run the cell below to load datasets from your project directory and select samples for processing using dynamically-created checkboxes. You should re-run this cell if a) the dataset did not load correctly or b) you have made changes (e.g., adjusting alignment in the mosaic_info.csv file) to your project directory since first running it in this session.\n"
   ]
  },
  {
   "cell_type": "code",
   "execution_count": null,
   "metadata": {
    "id": "rUDPgQLFWXpZ"
   },
   "outputs": [],
   "source": [
    "#loads data mosaic_info.csv, various align files; collects and verifies filenames. \\\n",
    "# You may need to modify files (e.g., mosaic_info.csv), re-upload them to Google Drive, \\\n",
    "# and re-run this cell if output is not satisfactory.\n",
    "mos_data_dict = czd_utils.load_data_dict(ROOT_DIR)\n",
    "print('Samples successfully loaded:', list(mos_data_dict.keys()))\n",
    "\n",
    "#Selection of samples from dataset for processing\n",
    "selected_samples = []\n",
    "if len(list(mos_data_dict.keys())):\n",
    "  alc_notebook_fxns.select_samples_fxn(mos_data_dict, selected_samples)"
   ]
  },
  {
   "cell_type": "markdown",
   "metadata": {
    "id": "O682T15T0AxA"
   },
   "source": [
    "## Data Inspection (optional):\n",
    "Run the cell below to inspect (display random samples of scans from each mosaic) selected data from each dataset in your project directory. Scales for\n",
    "images are in microns."
   ]
  },
  {
   "cell_type": "code",
   "execution_count": null,
   "metadata": {
    "id": "mw20ZRc0pa0h"
   },
   "outputs": [],
   "source": [
    "%matplotlib inline\n",
    "alc_notebook_fxns.inspect_data(mos_data_dict,\n",
    "                               selected_samples,\n",
    "                               n_scans_sample = 3) #modify integer here to change\n",
    "                                                   # number of scans sampled from\n",
    "                                                   # each sample.\n",
    "%matplotlib auto"
   ]
  },
  {
   "cell_type": "markdown",
   "metadata": {
    "id": "oTxOTyV2WXpd"
   },
   "source": [
    "## Model Download and Initialization:\n",
    "\n",
    "The cells below will download (1st cell) and then initialize and configure (2nd cell) a trained zircon-segmentation RCNN model. This model will be used to segment zircon crystals from the mosaic images that you previously loaded.\n",
    "\n",
    "Model training parameters and comparisons between model results and segmentations by humans will (hopefully) be made available in a future publication. It is recommended that users pick one of the first two models, and that they avoid the last 3 models (these do not perform well and are only included for manuscript data replication purposes). "
   ]
  },
  {
   "cell_type": "code",
   "execution_count": null,
   "metadata": {
    "id": "KEQM4ijgTQzj"
   },
   "outputs": [],
   "source": [
    "# Modify path/url below if you want to use a custom (with downloadable models)\n",
    "# model library with this Notebook. Models are currently hosted for download on AWS;\n",
    "# see czd_model_library.json for direct download links and model lib formatting.\n",
    "\n",
    "model_lib_loc = 'default' #this will get the current version of the czd model lib from Github\n",
    "\n",
    "current_model_dict = {}\n",
    "alc_notebook_fxns.select_download_model_interface(current_model_dict, model_lib_loc)"
   ]
  },
  {
   "cell_type": "code",
   "execution_count": null,
   "metadata": {
    "id": "pZzacbwXWXpd"
   },
   "outputs": [],
   "source": [
    "# Run this cell after selecting a model in the cell above, and again if model is changed at any point.\n",
    "# Can be modified to load any Detectron 2 instance segmentation model trained to \\\n",
    "# detect zircon grains.\n",
    "cfg = get_cfg()\n",
    "cfg.merge_from_file(model_zoo.get_config_file(current_model_dict['config_file']))#base model configuration\n",
    "cfg.MODEL.RESNETS.DEPTH = current_model_dict['resnet_depth'] #set resnet depth from model library\n",
    "cfg.MODEL.WEIGHTS = os.path.join(os.getcwd(), current_model_dict['name']) #loads model weights (trained to detect zircons)\n",
    "cfg.MODEL.ROI_HEADS.NUM_CLASSES = 1  # Only class here is zircon\n",
    "cfg.MODEL.ROI_HEADS.SCORE_THRESH_TEST = 0.7   # set a custom threshold\n",
    "cfg.MODEL.RPN.NMS_THRESH = 0.06 #set a custom (lower) NMS threshold; ideally minimizes overlapping zircon masks in results\n",
    "\n",
    "zircon_metadata = catalog.Metadata(name='zircon_meta', thing_classes=['zircon'])\n",
    "\n",
    "predictor = DefaultPredictor(cfg)"
   ]
  },
  {
   "cell_type": "markdown",
   "metadata": {
    "id": "YdiJZUitWXpe"
   },
   "source": [
    "## Test Evaluation (Optional):\n",
    "\n",
    "Run the cell below to visualize model prediction results on a random sample of scans from each of your mosaic images. Axes for scanned zircon images will be in microns."
   ]
  },
  {
   "cell_type": "code",
   "execution_count": null,
   "metadata": {
    "id": "hw_CWl4jrcd-"
   },
   "outputs": [],
   "source": [
    "%matplotlib inline\n",
    "alc_notebook_fxns.test_eval(selected_samples, mos_data_dict, predictor, \n",
    "                            zircon_metadata,\n",
    "                            n_scans_sample =3) #modify integer to change num. scans\n",
    "                                               # randomly selected, evaluated per sample.\n",
    "%matplotlib auto"
   ]
  },
  {
   "cell_type": "markdown",
   "metadata": {
    "id": "sVg-lhyQxgkZ"
   },
   "source": [
    "## Processing Option A: Fully Automated Processing:"
   ]
  },
  {
   "cell_type": "markdown",
   "metadata": {
    "id": "NWu2dDIo3J44"
   },
   "source": [
    "Run the cell below to automatically process all selected samples.\n",
    "\n",
    "In the upper part of the cell, you will select alternate image pre-processing/segmentation methods to automatically try in case an initial attempt at segmentation fails. You do not have to select all or any of these alternate methods. Otsu thresholding segmentation (non-RCNN) is particularly sensitive to image artefacts and can produce wildly incorrect results.\n",
    "\n",
    "In the lower part of the cell, you will choose whether to save segmentation polygons (approximating autogenerated masks to within one micron) into .json files. These polygons can be loaded into GUI (see 'Option B' below) for evaluation and/or editing in this or any future Colab session. Saving polygons is recommended for verification purposes and enabled by default, but will slow down automated processing somewhat.\n",
    "\n",
    "After selecting alternate methods and choosing whether to save autogenrated polygons, run the cell to automatically process all selected samples. Zircon dimensions will be saved to .csv files corresponding to each sample, and mask images will be saved as .png files for verification. If polygon saving is enabled, polygons will be saved into .json files for future editing or further verification."
   ]
  },
  {
   "cell_type": "code",
   "execution_count": null,
   "metadata": {
    "id": "-CXrUeitxgkZ"
   },
   "outputs": [],
   "source": [
    "#@title Select processing options, then run this cell to start fully automated proccessing\n",
    "#@markdown #####Alternate segmentation methods:\n",
    "Try_zoomed_out_subimage = True #@param {type:\"boolean\"}\n",
    "Try_zoomed_in_subimage = True #@param {type:\"boolean\"}\n",
    "Try_contrast_enhanced_subimage = True #@param {type:\"boolean\"}\n",
    "Try_Otsu_thresholding  = False #@param {type:\"boolean\"}\n",
    "\n",
    "#@markdown #####Save polygons for GUI viewing/editing?\n",
    "Save_polygons = True #@param {type:\"boolean\"}\n",
    "\n",
    "\n",
    "save_polys_bool = Save_polygons\n",
    "alt_methods = [Try_zoomed_out_subimage, Try_zoomed_in_subimage,\n",
    "               Try_contrast_enhanced_subimage,\n",
    "               Try_Otsu_thresholding]\n",
    "\n",
    "#@markdown ###### Identifying string for new output directory name (can be blank):\n",
    "full_auto_str = '' #@param {type:\"string\"}\n",
    "\n",
    "\n",
    "#Below: actually run fully-automated segmentation for selected samples. \\\n",
    "#If somehow not set in cells above, mpl auto needed here to prevent RAM crash\n",
    "%matplotlib auto\n",
    "run_dir = alc_notebook_fxns.full_auto_proc(ROOT_DIR, selected_samples, mos_data_dict,\n",
    "                                           predictor, save_polys_bool, alt_methods,\n",
    "                                           full_auto_str)"
   ]
  },
  {
   "cell_type": "markdown",
   "metadata": {
    "id": "EtuDo2R4ms4K"
   },
   "source": [
    "## Processing Option B: GUI (Semi-Automated) Processing:\n",
    "\n",
    "The cells below set up and open a simple GUI that allows sample-by-sample creation, inspection, replacement, and export of automatic zircon segmentations. This may be most useful for mosaic images that the automatic segmentation model struggles with (e.g., with poor image quality/misalignment or partially exposed zircons).\n",
    "_______________________________________________________________________"
   ]
  },
  {
   "cell_type": "markdown",
   "metadata": {
    "id": "QatmrCJO3UCL"
   },
   "source": [
    "### Load saved polygons (optional):"
   ]
  },
  {
   "cell_type": "markdown",
   "metadata": {
    "id": "_sm_94wM3WcY"
   },
   "source": [
    "This step is optional; the GUI can be run without any loadable polygons and will in this case simply produce automated segmentations for each sample as the user navigates through their dataset.\n",
    "\n",
    "(Optionally) running one of the two cells below allows loading polygons and limited metadata from a run directory created during a previous automated or semi-automated processing run. Polygons from the selected run directory will be copied to a current run directory, so segmentations can be edited iteratively in different sessions (see 'Workflows' above). Zircon shapes will not be analyzed and new polygons will not be saved until the 'Analyze...' button is clicked in the GUI.\n",
    "\n",
    "*   Run the first cell below if you have just (within this notebook session) completed an automated processing run for your sample with polygon saving enabled and want to check/edit saved zircon segmentations.\n",
    "*   OR\n",
    "*   Type in the folder name of a semi-automated or saving-enabled automated processing run subdirectory (e.g., *../YOUR_PROJECT FOLDER/outputs/NAME_OF_RUN_DIRECTORY*) from this or a previous session to load polygons from it."
   ]
  },
  {
   "cell_type": "code",
   "execution_count": null,
   "metadata": {
    "id": "2bQDWaCk-t-t"
   },
   "outputs": [],
   "source": [
    "#Run this cell to attempt loading from a just-run automated processing run.\n",
    "try:\n",
    "  loading_dir = save_load.check_loadable(run_dir, verbose=True)\n",
    "except NameError:\n",
    "  print('No run_dir variable found for current session; try finding and manually',\n",
    "        'adding a loadable run directory in the cell below or proceed without loading.')\n",
    "  loading_dir = None"
   ]
  },
  {
   "cell_type": "markdown",
   "metadata": {
    "id": "tIdd4J2spzjy"
   },
   "source": [
    "OR"
   ]
  },
  {
   "cell_type": "code",
   "execution_count": null,
   "metadata": {
    "id": "nirosSG4qa9Z"
   },
   "outputs": [],
   "source": [
    "#Add the name of a loadable run directory from this or a previous session, \\\n",
    "# then run this cell to attempt loading.\n",
    "input_loadable_run_dir = \"OUTPUT RUN FOR LOADING HERE\" #@param {type:\"string\"}\n",
    "loading_dir = save_load.check_loadable(os.path.join(ROOT_DIR, 'outputs',\n",
    "                                                    input_loadable_run_dir),\n",
    "                                       verbose=True)"
   ]
  },
  {
   "cell_type": "markdown",
   "metadata": {
    "id": "mH0iiaYc-sj6"
   },
   "source": [
    "### Open and Run GUI\n"
   ]
  },
  {
   "cell_type": "markdown",
   "metadata": {
    "id": "AtUOqWxW3fqM"
   },
   "source": [
    "Running the cell below will actually open the GUI. If a valid previous run was selected, polygons will be loaded from that run. Otherwise, new automated segmentations will be produced on a sample-by-sample basis. Upon invoking the 'Analyze...' functions, zircon dimensions will be saved to .csv files corresponding to each sample, mask images will be saved as .png files for verification, and any changes to polygons will be saved to .json files corresponding to each sample.\n",
    "\n",
    "Because Google Colab will automatically close inactive runtimes, it is recommended that users not leave GUI running but inactive without first saving changes.\n",
    "\n",
    "\n",
    ">**Instructions and tips:**\n",
    ">\n",
    "> Click on the canvas to start a new zircon polygon, and double click to finish the polygon.\n",
    ">\n",
    ">The 'restore orig. polygon' button will revert to the last saved automatically-generated (or, in the case of loaded polygons, possibly human-generated) zircon segmentation if one exists.\n",
    ">\n",
    ">The 'tag scan' button adds a tag to the scan that will persist into the exported image filename and zircon dimensions .csv file. What this tag means is up to the user (e.g., well-exposed zircons could be tagged).\n",
    ">\n",
    ">The 'Save changes to sample polygons' button will send all current polygons in the currently-open sample for .json saving. This will also be done automatically upon switching between samples and sending polygons for grain dimension analysis.\n",
    ">\n",
    ">The 'Analyze sample dimensions and export to Drive' button will send all current polygons in the currently-open sample for .json saving and dimensional analysis and save the results to your Google Drive project folder.\n",
    ">\n",
    ">The 'Analyze... all selected samples' button will measure dimensions of zircon crystals for all samples in the dataset where saved polygons (either generated in current session or loaded from a previous one) are available. For as-of-yet unclear reasons this is a slow process, so it may be best to check/edit all polygons in a dataset before starting it."
   ]
  },
  {
   "cell_type": "code",
   "execution_count": null,
   "metadata": {
    "id": "xXyzx0humsdS"
   },
   "outputs": [],
   "source": [
    "#run this cell to open GUI\n",
    "%matplotlib auto\n",
    "try:\n",
    "  loading_dir = loading_dir\n",
    "except NameError:\n",
    "  loading_dir = None\n",
    "#@markdown ###### Identifying string for new output directory name (can be blank):\n",
    "semiauto_str = '' #@param {type:\"string\"}\n",
    "zirc_dims_GUI.run_alc_GUI(mos_data_dict, selected_samples, ROOT_DIR, predictor,\n",
    "                          loading_dir, semiauto_str)"
   ]
  }
 ],
 "metadata": {
  "accelerator": "GPU",
  "colab": {
   "collapsed_sections": [
    "yL0b7kBpW1Le"
   ],
   "name": "Mosaic_zircon_process_v1-0-6.ipynb",
   "provenance": []
  },
  "kernelspec": {
   "display_name": "Python 3",
   "language": "python",
   "name": "python3"
  },
  "language_info": {
   "codemirror_mode": {
    "name": "ipython",
    "version": 3
   },
   "file_extension": ".py",
   "mimetype": "text/x-python",
   "name": "python",
   "nbconvert_exporter": "python",
   "pygments_lexer": "ipython3",
   "version": "3.8.8"
  }
 },
 "nbformat": 4,
 "nbformat_minor": 1
}
